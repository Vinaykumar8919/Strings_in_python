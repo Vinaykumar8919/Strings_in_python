{
 "cells": [
  {
   "cell_type": "markdown",
   "id": "14da29c4",
   "metadata": {},
   "source": [
    "# list"
   ]
  },
  {
   "cell_type": "code",
   "execution_count": 1,
   "id": "5d71b200",
   "metadata": {},
   "outputs": [
    {
     "name": "stdout",
     "output_type": "stream",
     "text": [
      "<class 'list'>\n",
      "[]\n"
     ]
    }
   ],
   "source": [
    "l = []\n",
    "print(type(l))\n",
    "print(l)"
   ]
  },
  {
   "cell_type": "code",
   "execution_count": 2,
   "id": "814e6ff7",
   "metadata": {},
   "outputs": [
    {
     "name": "stdout",
     "output_type": "stream",
     "text": [
      "<class 'list'>\n",
      "[]\n"
     ]
    }
   ],
   "source": [
    "l = list()\n",
    "print(type(l))\n",
    "print(l)"
   ]
  },
  {
   "cell_type": "code",
   "execution_count": 3,
   "id": "68a5311f",
   "metadata": {},
   "outputs": [
    {
     "name": "stdout",
     "output_type": "stream",
     "text": [
      "[2, 4, 'vinay', 6.8, (7+2j)]\n",
      "<class 'list'>\n"
     ]
    }
   ],
   "source": [
    "l=[2,4,'vinay',6.8,2j+7] #list is collection of different objects\n",
    "print(l)\n",
    "print(type(l))"
   ]
  },
  {
   "cell_type": "code",
   "execution_count": 6,
   "id": "6f1fa750",
   "metadata": {},
   "outputs": [
    {
     "name": "stdout",
     "output_type": "stream",
     "text": [
      "8\n",
      "6\n",
      "6\n",
      "5\n"
     ]
    }
   ],
   "source": [
    "l=[8,9,1,9,6,0,9,4,5]\n",
    "print(l[0]) #list is 0 based indexing \n",
    "print(l[4])\n",
    "print(l[-5])\n",
    "print(l[-1])"
   ]
  },
  {
   "cell_type": "code",
   "execution_count": 10,
   "id": "dcff298c",
   "metadata": {},
   "outputs": [
    {
     "name": "stdout",
     "output_type": "stream",
     "text": [
      "['v', 'i', 'n', 'a', 'y', ' ', 'k', 'u', 'm', 'a', 'r']\n"
     ]
    }
   ],
   "source": [
    "s=\"vinay kumar\"\n",
    "l=list(s)\n",
    "print(l)"
   ]
  },
  {
   "cell_type": "code",
   "execution_count": 11,
   "id": "b702ec70",
   "metadata": {},
   "outputs": [
    {
     "name": "stdout",
     "output_type": "stream",
     "text": [
      "['vinay', 'kumar', 'abhi', 'saahus', 'akash']\n"
     ]
    }
   ],
   "source": [
    "l=[\"vinay\", \"kumar\", \"abhi\", \"cherry\", \"akash\"]\n",
    "l[3]=\"saahus\" #list is mutable so we can alter the values of list\n",
    "print(l)"
   ]
  },
  {
   "cell_type": "code",
   "execution_count": 13,
   "id": "e61157ce",
   "metadata": {},
   "outputs": [
    {
     "name": "stdout",
     "output_type": "stream",
     "text": [
      "True\n",
      "False\n",
      "1997605077056\n",
      "1997605081152\n"
     ]
    }
   ],
   "source": [
    "l=[\"vinay\", \"kumar\", \"abhi\", \"cherry\", \"akash\"]\n",
    "l2=[\"vinay\", \"kumar\", \"abhi\", \"cherry\", \"akash\"]\n",
    "print(l==l2)\n",
    "print(l is l2)\n",
    "print(id(l))\n",
    "print(id(l2))"
   ]
  },
  {
   "cell_type": "code",
   "execution_count": null,
   "id": "c4d77de8",
   "metadata": {},
   "outputs": [],
   "source": []
  }
 ],
 "metadata": {
  "kernelspec": {
   "display_name": "Python 3 (ipykernel)",
   "language": "python",
   "name": "python3"
  },
  "language_info": {
   "codemirror_mode": {
    "name": "ipython",
    "version": 3
   },
   "file_extension": ".py",
   "mimetype": "text/x-python",
   "name": "python",
   "nbconvert_exporter": "python",
   "pygments_lexer": "ipython3",
   "version": "3.9.13"
  }
 },
 "nbformat": 4,
 "nbformat_minor": 5
}
