{
 "cells": [
  {
   "cell_type": "markdown",
   "id": "ffad1c1c",
   "metadata": {},
   "source": [
    "### String\n"
   ]
  },
  {
   "cell_type": "code",
   "execution_count": 1,
   "id": "2cca16f1",
   "metadata": {},
   "outputs": [
    {
     "name": "stdout",
     "output_type": "stream",
     "text": [
      "hello\n",
      "good morning\n",
      "hello world\n",
      "how are you\n"
     ]
    }
   ],
   "source": [
    "s1='good morning'\n",
    "s=\"hello\"\n",
    "s2='''how are you'''\n",
    "print(s)\n",
    "print(s1)\n",
    "print(\"hello world\")\n",
    "print(s2)"
   ]
  },
  {
   "cell_type": "code",
   "execution_count": null,
   "id": "4d2c1381",
   "metadata": {},
   "outputs": [
    {
     "name": "stdout",
     "output_type": "stream",
     "text": [
      "vinay kumar\n",
      "This is my name\n"
     ]
    }
   ],
   "source": [
    "s='''vinay kumar\n",
    "This is my name'''\n",
    "print(s)\n",
    "print(334)"
   ]
  },
  {
   "cell_type": "code",
   "execution_count": 3,
   "id": "ebad32da",
   "metadata": {},
   "outputs": [
    {
     "name": "stdout",
     "output_type": "stream",
     "text": [
      "2\n",
      "6\n"
     ]
    }
   ],
   "source": [
    "s=\"0123456789\"\n",
    "print(s[2])\n",
    "print(s[-4])"
   ]
  },
  {
   "cell_type": "code",
   "execution_count": 4,
   "id": "6bdd1c7e",
   "metadata": {},
   "outputs": [
    {
     "name": "stdout",
     "output_type": "stream",
     "text": [
      "llo\n",
      "\n",
      "llo world by py\n",
      "\n",
      "\n",
      "nohtyp yb dlrow\n",
      "noh\n",
      "tho\n",
      "\n",
      "noh\n"
     ]
    }
   ],
   "source": [
    "s=\"hello world by python!\"\n",
    "print(s[2:5])\n",
    "print(s[8:5])\n",
    "print(s[2:-5])\n",
    "print(s[-2:5])\n",
    "print(s[-2:-5])\n",
    "print(s[-2:5:-1])\n",
    "print(s[-2:-5:-1])\n",
    "print(s[-5:-2])\n",
    "print(s[-5:-2:-1])\n",
    "print(s[-2:-5:-1])"
   ]
  },
  {
   "cell_type": "markdown",
   "id": "7f4741e2",
   "metadata": {},
   "source": [
    "## MathematicalOperatorsforString"
   ]
  },
  {
   "cell_type": "code",
   "execution_count": 5,
   "id": "f4d9f2db",
   "metadata": {},
   "outputs": [
    {
     "name": "stdout",
     "output_type": "stream",
     "text": [
      "vinaykumar\n",
      "vinayvinayvinayvinayvinayvinayvinayvinayvinayvinay\n"
     ]
    }
   ],
   "source": [
    "s2=\"vinay\"+\"kumar\"\n",
    "s3=10*\"vinay\"\n",
    "print(s2)\n",
    "print(s3)"
   ]
  },
  {
   "cell_type": "code",
   "execution_count": 6,
   "id": "f7d59076",
   "metadata": {},
   "outputs": [
    {
     "name": "stdout",
     "output_type": "stream",
     "text": [
      "13\n"
     ]
    }
   ],
   "source": [
    "s='i am iron man'\n",
    "print(len(s))"
   ]
  },
  {
   "cell_type": "markdown",
   "id": "307c1f36",
   "metadata": {},
   "source": [
    "### MembershipOperators:"
   ]
  },
  {
   "cell_type": "code",
   "execution_count": null,
   "id": "a509c370",
   "metadata": {},
   "outputs": [],
   "source": []
  },
  {
   "cell_type": "code",
   "execution_count": 7,
   "id": "dd31d1bc",
   "metadata": {},
   "outputs": [
    {
     "name": "stdout",
     "output_type": "stream",
     "text": [
      " is found in main string\n"
     ]
    }
   ],
   "source": [
    "s=input(\"Enter main string:\")\n",
    "subs=input(\"Enter sub string:\")\n",
    "if subs in s:\n",
    "    print(subs,\"is found in main string\")\n",
    "else:\n",
    "    print(subs,\"is not found in main string\")"
   ]
  },
  {
   "cell_type": "code",
   "execution_count": 8,
   "id": "ba06a60a",
   "metadata": {},
   "outputs": [],
   "source": [
    "s=input(\"Enter main string:\")\n",
    "subs=input(\"Enter sub string:\")\n",
    "if subs in s:\n",
    "    print(subs,\"is found in main string\")\n",
    "else:\n",
    "    print(subs,\"is not found in main string\")"
   ]
  },
  {
   "cell_type": "markdown",
   "id": "9adf31ac",
   "metadata": {},
   "source": [
    "## ComparisonofStrings:"
   ]
  },
  {
   "cell_type": "code",
   "execution_count": null,
   "id": "d05f9783",
   "metadata": {},
   "outputs": [
    {
     "data": {
      "text/plain": [
       "False"
      ]
     },
     "execution_count": 10,
     "metadata": {},
     "output_type": "execute_result"
    }
   ],
   "source": [
    "s1='aS'\n",
    "s2='AB'\n",
    "s1<s2"
   ]
  },
  {
   "cell_type": "code",
   "execution_count": null,
   "id": "99675a17",
   "metadata": {},
   "outputs": [
    {
     "name": "stdout",
     "output_type": "stream",
     "text": [
      "False\n",
      "True\n",
      "False\n"
     ]
    }
   ],
   "source": [
    "s1='AAA'\n",
    "s2='aaa'\n",
    "print(s1==s2)\n",
    "print(s1<s2)\n",
    "print(s1>s2)"
   ]
  },
  {
   "cell_type": "code",
   "execution_count": null,
   "id": "a0862ae7",
   "metadata": {},
   "outputs": [
    {
     "name": "stdout",
     "output_type": "stream",
     "text": [
      "97\n",
      "65\n"
     ]
    }
   ],
   "source": [
    "print(ord('a'))\n",
    "print(ord('A'))"
   ]
  },
  {
   "cell_type": "markdown",
   "id": "da5bcdec",
   "metadata": {},
   "source": [
    "# String functions "
   ]
  },
  {
   "cell_type": "markdown",
   "id": "5dbe2904",
   "metadata": {},
   "source": [
    "### Removing spaces from the string:\n",
    "rstrip(),lstrip(),strip()"
   ]
  },
  {
   "cell_type": "code",
   "execution_count": null,
   "id": "57c419dd",
   "metadata": {},
   "outputs": [
    {
     "name": "stdout",
     "output_type": "stream",
     "text": [
      "        jhgrjgjgtjg     \n",
      "        jhgrjgjgtjg\n",
      "jhgrjgjgtjg     \n",
      "jhgrjgjgtjg\n"
     ]
    }
   ],
   "source": [
    "s='        jhgrjgjgtjg     '\n",
    "print(s)\n",
    "print(s.rstrip())\n",
    "print(s.lstrip())\n",
    "print(s.strip())"
   ]
  },
  {
   "cell_type": "code",
   "execution_count": null,
   "id": "72f5ff75",
   "metadata": {},
   "outputs": [
    {
     "name": "stdout",
     "output_type": "stream",
     "text": [
      "@@@@@@@@vinaykumar@@@@@@\n",
      "rstrip(): @@@@@@@@vinaykumar\n",
      "lstrip(): vinaykumar@@@@@@\n",
      "strip(): vinaykumar\n",
      "@@@@@@@@vinaykumar@@@@@@\n"
     ]
    }
   ],
   "source": [
    "s=\"@@@@@@@@vinaykumar@@@@@@\"\n",
    "print(s)\n",
    "print(\"rstrip():\",s.rstrip('@'))\n",
    "print(\"lstrip():\",s.lstrip('@'))\n",
    "print(\"strip():\",s.strip('@'))\n",
    "print(s)"
   ]
  },
  {
   "cell_type": "code",
   "execution_count": null,
   "id": "53a05ade",
   "metadata": {},
   "outputs": [
    {
     "name": "stdout",
     "output_type": "stream",
     "text": [
      "7\n",
      "7\n",
      "5\n",
      "19\n",
      "-1\n",
      "-1\n"
     ]
    }
   ],
   "source": [
    "s=\"i love you 3000 Times\"\n",
    "print(s.find('y'))\n",
    "print(s.rfind('y'))\n",
    "print(s.find('e'))\n",
    "print(s.rfind('e'))\n",
    "print(s.find('x'))\n",
    "print(s.rfind('x'))"
   ]
  },
  {
   "cell_type": "code",
   "execution_count": null,
   "id": "96e4578f",
   "metadata": {},
   "outputs": [
    {
     "name": "stdout",
     "output_type": "stream",
     "text": [
      "7\n",
      "7\n",
      "5\n",
      "19\n"
     ]
    },
    {
     "ename": "ValueError",
     "evalue": "substring not found",
     "output_type": "error",
     "traceback": [
      "\u001b[1;31m---------------------------------------------------------------------------\u001b[0m",
      "\u001b[1;31mValueError\u001b[0m                                Traceback (most recent call last)",
      "\u001b[1;32m~\\AppData\\Local\\Temp\\ipykernel_17268\\2413508476.py\u001b[0m in \u001b[0;36m<module>\u001b[1;34m\u001b[0m\n\u001b[0;32m      4\u001b[0m \u001b[0mprint\u001b[0m\u001b[1;33m(\u001b[0m\u001b[0ms\u001b[0m\u001b[1;33m.\u001b[0m\u001b[0mindex\u001b[0m\u001b[1;33m(\u001b[0m\u001b[1;34m'e'\u001b[0m\u001b[1;33m)\u001b[0m\u001b[1;33m)\u001b[0m\u001b[1;33m\u001b[0m\u001b[1;33m\u001b[0m\u001b[0m\n\u001b[0;32m      5\u001b[0m \u001b[0mprint\u001b[0m\u001b[1;33m(\u001b[0m\u001b[0ms\u001b[0m\u001b[1;33m.\u001b[0m\u001b[0mrindex\u001b[0m\u001b[1;33m(\u001b[0m\u001b[1;34m'e'\u001b[0m\u001b[1;33m)\u001b[0m\u001b[1;33m)\u001b[0m\u001b[1;33m\u001b[0m\u001b[1;33m\u001b[0m\u001b[0m\n\u001b[1;32m----> 6\u001b[1;33m \u001b[0mprint\u001b[0m\u001b[1;33m(\u001b[0m\u001b[0ms\u001b[0m\u001b[1;33m.\u001b[0m\u001b[0mindex\u001b[0m\u001b[1;33m(\u001b[0m\u001b[1;34m'x'\u001b[0m\u001b[1;33m)\u001b[0m\u001b[1;33m)\u001b[0m\u001b[1;33m\u001b[0m\u001b[1;33m\u001b[0m\u001b[0m\n\u001b[0m",
      "\u001b[1;31mValueError\u001b[0m: substring not found"
     ]
    }
   ],
   "source": [
    "s=\"i love you 3000 Times\"\n",
    "print(s.index('y'))\n",
    "print(s.rindex('y'))\n",
    "print(s.index('e'))\n",
    "print(s.rindex('e'))\n",
    "print(s.index('x'))"
   ]
  },
  {
   "cell_type": "code",
   "execution_count": null,
   "id": "aca242f1",
   "metadata": {},
   "outputs": [
    {
     "ename": "ValueError",
     "evalue": "substring not found",
     "output_type": "error",
     "traceback": [
      "\u001b[1;31m---------------------------------------------------------------------------\u001b[0m",
      "\u001b[1;31mValueError\u001b[0m                                Traceback (most recent call last)",
      "\u001b[1;32m~\\AppData\\Local\\Temp\\ipykernel_17268\\1758190303.py\u001b[0m in \u001b[0;36m<module>\u001b[1;34m\u001b[0m\n\u001b[1;32m----> 1\u001b[1;33m \u001b[0mprint\u001b[0m\u001b[1;33m(\u001b[0m\u001b[0ms\u001b[0m\u001b[1;33m.\u001b[0m\u001b[0mrindex\u001b[0m\u001b[1;33m(\u001b[0m\u001b[1;34m'x'\u001b[0m\u001b[1;33m)\u001b[0m\u001b[1;33m)\u001b[0m\u001b[1;33m\u001b[0m\u001b[1;33m\u001b[0m\u001b[0m\n\u001b[0m",
      "\u001b[1;31mValueError\u001b[0m: substring not found"
     ]
    }
   ],
   "source": [
    "print(s.rindex('x'))"
   ]
  },
  {
   "cell_type": "code",
   "execution_count": null,
   "id": "a0ac2746",
   "metadata": {},
   "outputs": [
    {
     "name": "stdout",
     "output_type": "stream",
     "text": [
      "5\n",
      "19\n",
      "-1\n"
     ]
    }
   ],
   "source": [
    "#using bouindries in find(), index() methods\n",
    "s='I love You 3000 times'\n",
    "print(s.find('e'))\n",
    "print(s.find('e',7,21))\n",
    "print(s.find('e',7,18))"
   ]
  },
  {
   "cell_type": "code",
   "execution_count": null,
   "id": "ed00726d",
   "metadata": {},
   "outputs": [
    {
     "name": "stdout",
     "output_type": "stream",
     "text": [
      "5\n",
      "19\n"
     ]
    },
    {
     "ename": "ValueError",
     "evalue": "substring not found",
     "output_type": "error",
     "traceback": [
      "\u001b[1;31m---------------------------------------------------------------------------\u001b[0m",
      "\u001b[1;31mValueError\u001b[0m                                Traceback (most recent call last)",
      "\u001b[1;32m~\\AppData\\Local\\Temp\\ipykernel_17268\\3268639226.py\u001b[0m in \u001b[0;36m<module>\u001b[1;34m\u001b[0m\n\u001b[0;32m      2\u001b[0m \u001b[0mprint\u001b[0m\u001b[1;33m(\u001b[0m\u001b[0ms\u001b[0m\u001b[1;33m.\u001b[0m\u001b[0mindex\u001b[0m\u001b[1;33m(\u001b[0m\u001b[1;34m'e'\u001b[0m\u001b[1;33m)\u001b[0m\u001b[1;33m)\u001b[0m\u001b[1;33m\u001b[0m\u001b[1;33m\u001b[0m\u001b[0m\n\u001b[0;32m      3\u001b[0m \u001b[0mprint\u001b[0m\u001b[1;33m(\u001b[0m\u001b[0ms\u001b[0m\u001b[1;33m.\u001b[0m\u001b[0mindex\u001b[0m\u001b[1;33m(\u001b[0m\u001b[1;34m'e'\u001b[0m\u001b[1;33m,\u001b[0m\u001b[1;36m7\u001b[0m\u001b[1;33m,\u001b[0m\u001b[1;36m21\u001b[0m\u001b[1;33m)\u001b[0m\u001b[1;33m)\u001b[0m\u001b[1;33m\u001b[0m\u001b[1;33m\u001b[0m\u001b[0m\n\u001b[1;32m----> 4\u001b[1;33m \u001b[0mprint\u001b[0m\u001b[1;33m(\u001b[0m\u001b[0ms\u001b[0m\u001b[1;33m.\u001b[0m\u001b[0mindex\u001b[0m\u001b[1;33m(\u001b[0m\u001b[1;34m'e'\u001b[0m\u001b[1;33m,\u001b[0m\u001b[1;36m7\u001b[0m\u001b[1;33m,\u001b[0m\u001b[1;36m18\u001b[0m\u001b[1;33m)\u001b[0m\u001b[1;33m)\u001b[0m\u001b[1;33m\u001b[0m\u001b[1;33m\u001b[0m\u001b[0m\n\u001b[0m",
      "\u001b[1;31mValueError\u001b[0m: substring not found"
     ]
    }
   ],
   "source": [
    "s='I love You 3000 times'\n",
    "print(s.index('e'))\n",
    "print(s.index('e',7,21))\n",
    "print(s.index('e',7,18))"
   ]
  },
  {
   "cell_type": "markdown",
   "id": "89a77df9",
   "metadata": {},
   "source": [
    "## #count()"
   ]
  },
  {
   "cell_type": "code",
   "execution_count": null,
   "id": "07abb430",
   "metadata": {},
   "outputs": [
    {
     "name": "stdout",
     "output_type": "stream",
     "text": [
      "3\n",
      "3\n",
      "2\n",
      "0\n"
     ]
    }
   ],
   "source": [
    "#count()\n",
    "s=\"3244578755213`12567723214567\"\n",
    "print(s.count('3'))\n",
    "print(s.count(\"4\"))\n",
    "print(s.count('45'))\n",
    "print(s.count('54'))"
   ]
  },
  {
   "cell_type": "markdown",
   "id": "9e5b9613",
   "metadata": {},
   "source": [
    "## Replacing a string with another string:\n",
    "replace()"
   ]
  },
  {
   "cell_type": "code",
   "execution_count": null,
   "id": "c20fe110",
   "metadata": {},
   "outputs": [
    {
     "name": "stdout",
     "output_type": "stream",
     "text": [
      "my name is vinay kumar\n",
      "my name is yaswanth kumar\n"
     ]
    }
   ],
   "source": [
    "s='my name is vinay kumar'\n",
    "s1=s.replace('vinay','yaswanth')\n",
    "print(s)\n",
    "print(s1)"
   ]
  },
  {
   "cell_type": "markdown",
   "id": "88d68e92",
   "metadata": {},
   "source": [
    "## Splitting of Strings:\n",
    "split()\n"
   ]
  },
  {
   "cell_type": "code",
   "execution_count": null,
   "id": "f325faf5",
   "metadata": {},
   "outputs": [
    {
     "name": "stdout",
     "output_type": "stream",
     "text": [
      "['my', 'name', 'is', 'vinay', 'kumar']\n",
      "<class 'list'>\n"
     ]
    }
   ],
   "source": [
    "s=\"my name is vinay kumar\"\n",
    "l=s.split()\n",
    "print(l)\n",
    "print(type(l))"
   ]
  },
  {
   "cell_type": "code",
   "execution_count": null,
   "id": "0508aeb3",
   "metadata": {},
   "outputs": [
    {
     "name": "stdout",
     "output_type": "stream",
     "text": [
      "['my', 'name', 'is', 'vinay kumar']\n"
     ]
    }
   ],
   "source": [
    "s=\"my name is vinay kumar\"\n",
    "l=s.split(\" \", 3)\n",
    "print(l)"
   ]
  },
  {
   "cell_type": "code",
   "execution_count": null,
   "id": "4a41b02d",
   "metadata": {},
   "outputs": [
    {
     "name": "stdout",
     "output_type": "stream",
     "text": [
      "['my name', 'is', 'vinay', 'kumar']\n"
     ]
    }
   ],
   "source": [
    "s=\"my name is vinay kumar\"\n",
    "l=s.rsplit(\" \", 3)\n",
    "print(l)"
   ]
  },
  {
   "cell_type": "code",
   "execution_count": null,
   "id": "92f30cd1",
   "metadata": {},
   "outputs": [
    {
     "name": "stdout",
     "output_type": "stream",
     "text": [
      "['25', '01', '2023']\n"
     ]
    }
   ],
   "source": [
    "s='25-01-2023'\n",
    "l=s.split('-')\n",
    "print(l)"
   ]
  },
  {
   "cell_type": "markdown",
   "id": "75f4f939",
   "metadata": {},
   "source": [
    "## Joining of Strings:\n",
    "join()"
   ]
  },
  {
   "cell_type": "code",
   "execution_count": null,
   "id": "2c5455b4",
   "metadata": {},
   "outputs": [
    {
     "name": "stdout",
     "output_type": "stream",
     "text": [
      "ironMan hulk thor captain hawkeye\n",
      "ironMan-hulk-thor-captain-hawkeye\n"
     ]
    }
   ],
   "source": [
    "l=['ironMan','hulk','thor','captain','hawkeye']\n",
    "s=' '.join(l)\n",
    "s2='-'.join(l)\n",
    "print(s)\n",
    "print(s2)"
   ]
  },
  {
   "cell_type": "code",
   "execution_count": null,
   "id": "47d7ea9d",
   "metadata": {},
   "outputs": [
    {
     "ename": "TypeError",
     "evalue": "sequence item 3: expected str instance, int found",
     "output_type": "error",
     "traceback": [
      "\u001b[1;31m---------------------------------------------------------------------------\u001b[0m",
      "\u001b[1;31mTypeError\u001b[0m                                 Traceback (most recent call last)",
      "\u001b[1;32m~\\AppData\\Local\\Temp\\ipykernel_17268\\1040313400.py\u001b[0m in \u001b[0;36m<module>\u001b[1;34m\u001b[0m\n\u001b[0;32m      1\u001b[0m \u001b[0ml\u001b[0m\u001b[1;33m=\u001b[0m\u001b[1;33m[\u001b[0m\u001b[1;34m'ironMan'\u001b[0m\u001b[1;33m,\u001b[0m\u001b[1;34m'hulk'\u001b[0m\u001b[1;33m,\u001b[0m\u001b[1;34m'thor'\u001b[0m\u001b[1;33m,\u001b[0m\u001b[1;36m4\u001b[0m\u001b[1;33m,\u001b[0m\u001b[1;34m'hawkeye'\u001b[0m\u001b[1;33m]\u001b[0m\u001b[1;33m\u001b[0m\u001b[1;33m\u001b[0m\u001b[0m\n\u001b[1;32m----> 2\u001b[1;33m \u001b[0ms\u001b[0m\u001b[1;33m=\u001b[0m\u001b[1;34m' '\u001b[0m\u001b[1;33m.\u001b[0m\u001b[0mjoin\u001b[0m\u001b[1;33m(\u001b[0m\u001b[0ml\u001b[0m\u001b[1;33m)\u001b[0m\u001b[1;33m\u001b[0m\u001b[1;33m\u001b[0m\u001b[0m\n\u001b[0m\u001b[0;32m      3\u001b[0m \u001b[0ms2\u001b[0m\u001b[1;33m=\u001b[0m\u001b[1;34m'-'\u001b[0m\u001b[1;33m.\u001b[0m\u001b[0mjoin\u001b[0m\u001b[1;33m(\u001b[0m\u001b[0ml\u001b[0m\u001b[1;33m)\u001b[0m\u001b[1;33m\u001b[0m\u001b[1;33m\u001b[0m\u001b[0m\n\u001b[0;32m      4\u001b[0m \u001b[0mprint\u001b[0m\u001b[1;33m(\u001b[0m\u001b[0ms\u001b[0m\u001b[1;33m)\u001b[0m\u001b[1;33m\u001b[0m\u001b[1;33m\u001b[0m\u001b[0m\n\u001b[0;32m      5\u001b[0m \u001b[0mprint\u001b[0m\u001b[1;33m(\u001b[0m\u001b[0ms2\u001b[0m\u001b[1;33m)\u001b[0m\u001b[1;33m\u001b[0m\u001b[1;33m\u001b[0m\u001b[0m\n",
      "\u001b[1;31mTypeError\u001b[0m: sequence item 3: expected str instance, int found"
     ]
    }
   ],
   "source": [
    "l=['ironMan','hulk','thor',4,'hawkeye']\n",
    "s=' '.join(l)\n",
    "s2='-'.join(l)\n",
    "print(s)\n",
    "print(s2)"
   ]
  },
  {
   "cell_type": "code",
   "execution_count": null,
   "id": "ca6ea74d",
   "metadata": {},
   "outputs": [
    {
     "name": "stdout",
     "output_type": "stream",
     "text": [
      "Enter stringa5b4c2\n",
      "aaaaabbbbcc\n"
     ]
    }
   ],
   "source": [
    "s=input(\"Enter string\")\n",
    "out=\"\"\n",
    "for x in s:\n",
    "    if x.isalpha():\n",
    "        pre=x;\n",
    "    else:\n",
    "        out=out+int(x)*pre\n",
    "print(out)"
   ]
  },
  {
   "cell_type": "code",
   "execution_count": null,
   "id": "1cc08836",
   "metadata": {},
   "outputs": [],
   "source": []
  },
  {
   "cell_type": "code",
   "execution_count": null,
   "id": "616723f5",
   "metadata": {},
   "outputs": [],
   "source": []
  }
 ],
 "metadata": {
  "kernelspec": {
   "display_name": "Python 3",
   "language": "python",
   "name": "python3"
  },
  "language_info": {
   "codemirror_mode": {
    "name": "ipython",
    "version": 3
   },
   "file_extension": ".py",
   "mimetype": "text/x-python",
   "name": "python",
   "nbconvert_exporter": "python",
   "pygments_lexer": "ipython3",
   "version": "3.11.1"
  },
  "vscode": {
   "interpreter": {
    "hash": "c261aea317cc0286b3b3261fbba9abdec21eaa57589985bb7a274bf54d6cc0a7"
   }
  }
 },
 "nbformat": 4,
 "nbformat_minor": 5
}
